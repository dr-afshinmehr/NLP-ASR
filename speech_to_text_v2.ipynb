{
  "nbformat": 4,
  "nbformat_minor": 0,
  "metadata": {
    "colab": {
      "provenance": [],
      "gpuType": "T4",
      "authorship_tag": "ABX9TyOSogQ+bMciQz/NUvYm9toq",
      "include_colab_link": true
    },
    "kernelspec": {
      "name": "python3",
      "display_name": "Python 3"
    },
    "language_info": {
      "name": "python"
    },
    "accelerator": "GPU"
  },
  "cells": [
    {
      "cell_type": "markdown",
      "metadata": {
        "id": "view-in-github",
        "colab_type": "text"
      },
      "source": [
        "<a href=\"https://colab.research.google.com/github/dr-afshinmehr/NLP-ASR/blob/main/speech_to_text_v2.ipynb\" target=\"_parent\"><img src=\"https://colab.research.google.com/assets/colab-badge.svg\" alt=\"Open In Colab\"/></a>"
      ]
    },
    {
      "cell_type": "code",
      "source": [
        "!pip install -U openai-whisper"
      ],
      "metadata": {
        "id": "J79_T-3RdFzA"
      },
      "execution_count": null,
      "outputs": []
    },
    {
      "cell_type": "code",
      "source": [
        "import whisper as ws"
      ],
      "metadata": {
        "id": "xWesuWtwy1Z6"
      },
      "execution_count": 2,
      "outputs": []
    },
    {
      "cell_type": "code",
      "source": [
        "mod = ws.load_model('large-v3')"
      ],
      "metadata": {
        "id": "ZX8iuHfQzQPW"
      },
      "execution_count": 3,
      "outputs": []
    },
    {
      "cell_type": "code",
      "source": [
        "audio_input = (r\"https://raw.githubusercontent.com/dr-afshinmehr/NLP-ASR/main/Speech_To_Text/audio/Recording.mp3\")"
      ],
      "metadata": {
        "id": "8FquT5GizxpN"
      },
      "execution_count": 4,
      "outputs": []
    },
    {
      "cell_type": "code",
      "source": [
        "result = mod.transcribe(audio_input)"
      ],
      "metadata": {
        "id": "IHSTdLhDz-GL"
      },
      "execution_count": 5,
      "outputs": []
    },
    {
      "cell_type": "code",
      "source": [
        "print(result['text'])"
      ],
      "metadata": {
        "colab": {
          "base_uri": "https://localhost:8080/"
        },
        "id": "h3AXOGcp1KMn",
        "outputId": "987fd90d-7c3d-4f46-d1be-d1a0385ddb74"
      },
      "execution_count": 6,
      "outputs": [
        {
          "output_type": "stream",
          "name": "stdout",
          "text": [
            " سلام دوستان این فایل به صورت آزمایشی ضبط شده که کارایی سیستم رو بسنجیم\n"
          ]
        }
      ]
    }
  ]
}